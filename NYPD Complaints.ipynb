{
 "cells": [
  {
   "cell_type": "code",
   "execution_count": 161,
   "id": "daily-teacher",
   "metadata": {},
   "outputs": [],
   "source": [
    "from pyspark.sql import SparkSession\n",
    "from pyspark.ml import feature\n",
    "from pyspark.ml import classification\n",
    "from pyspark.sql import functions as fn\n",
    "from pyspark.ml import Pipeline, evaluation\n",
    "from pyspark.ml.feature import StringIndexer, OneHotEncoder, VectorAssembler\n",
    "from pyspark.ml.evaluation import BinaryClassificationEvaluator, \\\n",
    "    MulticlassClassificationEvaluator, \\\n",
    "    RegressionEvaluator\n",
    "from pyspark.ml.tuning import CrossValidator, ParamGridBuilder\n",
    "import matplotlib.pyplot as plt\n",
    "import seaborn as sns\n",
    "import pandas as pd\n",
    "from pyspark.sql import SparkSession\n",
    "from pyspark_pipes import pipe\n",
    "from pyspark.sql.functions import col, substring, when, count, isnan\n",
    "\n",
    "spark = SparkSession.builder.getOrCreate()\n",
    "sc = spark.sparkContext"
   ]
  },
  {
   "cell_type": "code",
   "execution_count": 8,
   "id": "prescribed-coating",
   "metadata": {},
   "outputs": [],
   "source": [
    "nypd = spark.read.csv('NYPD.csv', header=True, inferSchema=True)"
   ]
  },
  {
   "cell_type": "code",
   "execution_count": 9,
   "id": "considerable-honey",
   "metadata": {},
   "outputs": [
    {
     "data": {
      "text/html": [
       "<div>\n",
       "<style scoped>\n",
       "    .dataframe tbody tr th:only-of-type {\n",
       "        vertical-align: middle;\n",
       "    }\n",
       "\n",
       "    .dataframe tbody tr th {\n",
       "        vertical-align: top;\n",
       "    }\n",
       "\n",
       "    .dataframe thead th {\n",
       "        text-align: right;\n",
       "    }\n",
       "</style>\n",
       "<table border=\"1\" class=\"dataframe\">\n",
       "  <thead>\n",
       "    <tr style=\"text-align: right;\">\n",
       "      <th></th>\n",
       "      <th>CMPLNT_NUM</th>\n",
       "      <th>CMPLNT_FR_DT</th>\n",
       "      <th>CMPLNT_FR_TM</th>\n",
       "      <th>CMPLNT_TO_DT</th>\n",
       "      <th>CMPLNT_TO_TM</th>\n",
       "      <th>ADDR_PCT_CD</th>\n",
       "      <th>RPT_DT</th>\n",
       "      <th>KY_CD</th>\n",
       "      <th>OFNS_DESC</th>\n",
       "      <th>PD_CD</th>\n",
       "      <th>...</th>\n",
       "      <th>SUSP_SEX</th>\n",
       "      <th>TRANSIT_DISTRICT</th>\n",
       "      <th>Latitude</th>\n",
       "      <th>Longitude</th>\n",
       "      <th>Lat_Lon</th>\n",
       "      <th>PATROL_BORO</th>\n",
       "      <th>STATION_NAME</th>\n",
       "      <th>VIC_AGE_GROUP</th>\n",
       "      <th>VIC_RACE</th>\n",
       "      <th>VIC_SEX</th>\n",
       "    </tr>\n",
       "  </thead>\n",
       "  <tbody>\n",
       "    <tr>\n",
       "      <th>0</th>\n",
       "      <td>700381962</td>\n",
       "      <td>05/28/2015</td>\n",
       "      <td>15:00:00</td>\n",
       "      <td>None</td>\n",
       "      <td>None</td>\n",
       "      <td>46</td>\n",
       "      <td>06/01/2015</td>\n",
       "      <td>578</td>\n",
       "      <td>HARRASSMENT 2</td>\n",
       "      <td>638</td>\n",
       "      <td>...</td>\n",
       "      <td>M</td>\n",
       "      <td>NA</td>\n",
       "      <td>40.84586773</td>\n",
       "      <td>-73.915888033</td>\n",
       "      <td>(40.84586773, -73.915888033)</td>\n",
       "      <td>PATROL BORO BRONX</td>\n",
       "      <td>None</td>\n",
       "      <td>25-44</td>\n",
       "      <td>WHITE HISPANIC</td>\n",
       "      <td>F</td>\n",
       "    </tr>\n",
       "    <tr>\n",
       "      <th>1</th>\n",
       "      <td>593660503</td>\n",
       "      <td>02/20/2012</td>\n",
       "      <td>01:30:00</td>\n",
       "      <td>02/20/2012</td>\n",
       "      <td>02:00:00</td>\n",
       "      <td>32</td>\n",
       "      <td>02/20/2012</td>\n",
       "      <td>344</td>\n",
       "      <td>ASSAULT 3 &amp; RELATED OFFENSES</td>\n",
       "      <td>101</td>\n",
       "      <td>...</td>\n",
       "      <td>M</td>\n",
       "      <td>NA</td>\n",
       "      <td>40.811522012</td>\n",
       "      <td>-73.940601181</td>\n",
       "      <td>(40.811522012, -73.940601181)</td>\n",
       "      <td>PATROL BORO MAN NORTH</td>\n",
       "      <td>None</td>\n",
       "      <td>25-44</td>\n",
       "      <td>BLACK</td>\n",
       "      <td>F</td>\n",
       "    </tr>\n",
       "    <tr>\n",
       "      <th>2</th>\n",
       "      <td>889259677</td>\n",
       "      <td>09/28/2012</td>\n",
       "      <td>09:30:00</td>\n",
       "      <td>09/28/2012</td>\n",
       "      <td>18:45:00</td>\n",
       "      <td>47</td>\n",
       "      <td>10/02/2012</td>\n",
       "      <td>578</td>\n",
       "      <td>HARRASSMENT 2</td>\n",
       "      <td>638</td>\n",
       "      <td>...</td>\n",
       "      <td>M</td>\n",
       "      <td>NA</td>\n",
       "      <td>40.878003133</td>\n",
       "      <td>-73.846891755</td>\n",
       "      <td>(40.878003133, -73.846891755)</td>\n",
       "      <td>PATROL BORO BRONX</td>\n",
       "      <td>None</td>\n",
       "      <td>18-24</td>\n",
       "      <td>BLACK HISPANIC</td>\n",
       "      <td>F</td>\n",
       "    </tr>\n",
       "    <tr>\n",
       "      <th>3</th>\n",
       "      <td>977712246</td>\n",
       "      <td>04/27/2015</td>\n",
       "      <td>12:40:00</td>\n",
       "      <td>04/27/2015</td>\n",
       "      <td>12:45:00</td>\n",
       "      <td>73</td>\n",
       "      <td>04/27/2015</td>\n",
       "      <td>578</td>\n",
       "      <td>HARRASSMENT 2</td>\n",
       "      <td>638</td>\n",
       "      <td>...</td>\n",
       "      <td>M</td>\n",
       "      <td>NA</td>\n",
       "      <td>40.666464662</td>\n",
       "      <td>-73.904103595</td>\n",
       "      <td>(40.666464662, -73.904103595)</td>\n",
       "      <td>PATROL BORO BKLYN NORTH</td>\n",
       "      <td>None</td>\n",
       "      <td>45-64</td>\n",
       "      <td>BLACK</td>\n",
       "      <td>M</td>\n",
       "    </tr>\n",
       "    <tr>\n",
       "      <th>4</th>\n",
       "      <td>438966845</td>\n",
       "      <td>12/19/2016</td>\n",
       "      <td>13:06:00</td>\n",
       "      <td>12/19/2016</td>\n",
       "      <td>13:23:00</td>\n",
       "      <td>49</td>\n",
       "      <td>12/19/2016</td>\n",
       "      <td>344</td>\n",
       "      <td>ASSAULT 3 &amp; RELATED OFFENSES</td>\n",
       "      <td>101</td>\n",
       "      <td>...</td>\n",
       "      <td>M</td>\n",
       "      <td>NA</td>\n",
       "      <td>40.844696738</td>\n",
       "      <td>-73.86493511</td>\n",
       "      <td>(40.844696738, -73.86493511)</td>\n",
       "      <td>PATROL BORO BRONX</td>\n",
       "      <td>None</td>\n",
       "      <td>25-44</td>\n",
       "      <td>BLACK HISPANIC</td>\n",
       "      <td>F</td>\n",
       "    </tr>\n",
       "  </tbody>\n",
       "</table>\n",
       "<p>5 rows × 35 columns</p>\n",
       "</div>"
      ],
      "text/plain": [
       "   CMPLNT_NUM CMPLNT_FR_DT CMPLNT_FR_TM CMPLNT_TO_DT CMPLNT_TO_TM ADDR_PCT_CD  \\\n",
       "0   700381962   05/28/2015     15:00:00         None         None          46   \n",
       "1   593660503   02/20/2012     01:30:00   02/20/2012     02:00:00          32   \n",
       "2   889259677   09/28/2012     09:30:00   09/28/2012     18:45:00          47   \n",
       "3   977712246   04/27/2015     12:40:00   04/27/2015     12:45:00          73   \n",
       "4   438966845   12/19/2016     13:06:00   12/19/2016     13:23:00          49   \n",
       "\n",
       "       RPT_DT  KY_CD                     OFNS_DESC PD_CD  ... SUSP_SEX  \\\n",
       "0  06/01/2015    578                 HARRASSMENT 2   638  ...        M   \n",
       "1  02/20/2012    344  ASSAULT 3 & RELATED OFFENSES   101  ...        M   \n",
       "2  10/02/2012    578                 HARRASSMENT 2   638  ...        M   \n",
       "3  04/27/2015    578                 HARRASSMENT 2   638  ...        M   \n",
       "4  12/19/2016    344  ASSAULT 3 & RELATED OFFENSES   101  ...        M   \n",
       "\n",
       "  TRANSIT_DISTRICT      Latitude      Longitude  \\\n",
       "0               NA   40.84586773  -73.915888033   \n",
       "1               NA  40.811522012  -73.940601181   \n",
       "2               NA  40.878003133  -73.846891755   \n",
       "3               NA  40.666464662  -73.904103595   \n",
       "4               NA  40.844696738   -73.86493511   \n",
       "\n",
       "                         Lat_Lon              PATROL_BORO STATION_NAME  \\\n",
       "0   (40.84586773, -73.915888033)        PATROL BORO BRONX         None   \n",
       "1  (40.811522012, -73.940601181)    PATROL BORO MAN NORTH         None   \n",
       "2  (40.878003133, -73.846891755)        PATROL BORO BRONX         None   \n",
       "3  (40.666464662, -73.904103595)  PATROL BORO BKLYN NORTH         None   \n",
       "4   (40.844696738, -73.86493511)        PATROL BORO BRONX         None   \n",
       "\n",
       "  VIC_AGE_GROUP        VIC_RACE VIC_SEX  \n",
       "0         25-44  WHITE HISPANIC       F  \n",
       "1         25-44           BLACK       F  \n",
       "2         18-24  BLACK HISPANIC       F  \n",
       "3         45-64           BLACK       M  \n",
       "4         25-44  BLACK HISPANIC       F  \n",
       "\n",
       "[5 rows x 35 columns]"
      ]
     },
     "execution_count": 9,
     "metadata": {},
     "output_type": "execute_result"
    }
   ],
   "source": [
    "nypd.limit(5).toPandas()"
   ]
  },
  {
   "cell_type": "code",
   "execution_count": 10,
   "id": "comfortable-bhutan",
   "metadata": {},
   "outputs": [],
   "source": [
    "#nypd.printSchema()"
   ]
  },
  {
   "cell_type": "code",
   "execution_count": 11,
   "id": "global-chain",
   "metadata": {},
   "outputs": [
    {
     "name": "stdout",
     "output_type": "stream",
     "text": [
      "+----------+------------+------------+------------+------------+-----------+------+-----+---------+-----+-------+----------------+----------+-------+-----------------+-------------+----------+-----------------+--------+----------+-----------+----------+----------+--------------+---------+--------+----------------+--------+---------+-------+-----------+------------+-------------+--------+-------+\n",
      "|CMPLNT_NUM|CMPLNT_FR_DT|CMPLNT_FR_TM|CMPLNT_TO_DT|CMPLNT_TO_TM|ADDR_PCT_CD|RPT_DT|KY_CD|OFNS_DESC|PD_CD|PD_DESC|CRM_ATPT_CPTD_CD|LAW_CAT_CD|BORO_NM|LOC_OF_OCCUR_DESC|PREM_TYP_DESC|JURIS_DESC|JURISDICTION_CODE|PARKS_NM|HADEVELOPT|HOUSING_PSA|X_COORD_CD|Y_COORD_CD|SUSP_AGE_GROUP|SUSP_RACE|SUSP_SEX|TRANSIT_DISTRICT|Latitude|Longitude|Lat_Lon|PATROL_BORO|STATION_NAME|VIC_AGE_GROUP|VIC_RACE|VIC_SEX|\n",
      "+----------+------------+------------+------------+------------+-----------+------+-----+---------+-----+-------+----------------+----------+-------+-----------------+-------------+----------+-----------------+--------+----------+-----------+----------+----------+--------------+---------+--------+----------------+--------+---------+-------+-----------+------------+-------------+--------+-------+\n",
      "|         0|         199|           8|      564091|      562427|          0|     0|    0|     3793|    0|   3861|               2|         0|   5102|           341074|         9941|         0|                0| 1021340|   1947424|     326819|         0|         0|        714007|        0|   12925|               0|       0|        0|   6788|       3973|     2046498|        27053|       0|      0|\n",
      "+----------+------------+------------+------------+------------+-----------+------+-----+---------+-----+-------+----------------+----------+-------+-----------------+-------------+----------+-----------------+--------+----------+-----------+----------+----------+--------------+---------+--------+----------------+--------+---------+-------+-----------+------------+-------------+--------+-------+\n",
      "\n"
     ]
    }
   ],
   "source": [
    "#nypd.select([count(when(isnan(c) | col(c).isNull(), c)).alias(c) for c in nypd.columns]).show()"
   ]
  },
  {
   "cell_type": "code",
   "execution_count": 12,
   "id": "union-fields",
   "metadata": {},
   "outputs": [],
   "source": [
    "drop_list = []\n",
    "\n",
    "#DROP THE FOLLOWING COLUMNS BECAUSE THERE ARE A LOT OF MISSING VALUES OR FEATURES WE DO NOT WANT TO USE FOR ANALYSIS\n",
    "#nypd.select(\"CMPLNT_NUM\").show()\n",
    "#nypd.select([count(when((isnan('CMPLNT_NUM')| col('CMPLNT_NUM').isNull()),True))]).show() \n",
    "drop_list.append(\"CMPLNT_NUM\")\n",
    "\n",
    "#nypd.select(\"CMPLNT_TO_DT\").show()\n",
    "#nypd.select([count(when((isnan('CMPLNT_TO_DT')| col('CMPLNT_TO_DT').isNull()),True))]).show() \n",
    "drop_list.append(\"CMPLNT_TO_DT\")\n",
    "\n",
    "#nypd.select(\"CMPLNT_TO_TM\").show()\n",
    "#nypd.select([count(when((isnan('CMPLNT_TO_TM')| col('CMPLNT_TO_TM').isNull()),True))]).show()\n",
    "drop_list.append(\"CMPLNT_TO_TM\")\n",
    "\n",
    "#nypd.groupBy('ADDR_PCT_CD').count().show()\n",
    "#nypd.select([count(when((isnan('ADDR_PCT_CD')|col('ADDR_PCT_CD').isNull()),True))]).show()\n",
    "drop_list.append(\"ADDR_PCT_CD\")\n",
    "\n",
    "#nypd.groupBy('HADEVELOPT').count().show()\n",
    "#nypd.select([count(when((isnan('HADEVELOPT')| col('HADEVELOPT').isNull()),True))]).show()\n",
    "drop_list.append(\"HADEVELOPT\")\n",
    "\n",
    "#nypd.groupBy('HOUSING_PSA').count().show()\n",
    "#nypd.select([count(when((isnan('HOUSING_PSA')| col('HOUSING_PSA').isNull()),True))]).show()\n",
    "drop_list.append(\"HOUSING_PSA\")\n",
    "\n",
    "#nypd.groupBy('PARKS_NM').count().show()\n",
    "#nypd.select([count(when((isnan('PARKS_NM')| col('PARKS_NM').isNull()),True))]).show()\n",
    "drop_list.append(\"PARKS_NM\")\n",
    "\n",
    "#nypd.groupBy('STATION_NAME').count().show(truncate=False)\n",
    "#nypd.select([count(when((isnan('STATION_NAME')| col('STATION_NAME').isNull()),True))]).show()\n",
    "drop_list.append(\"STATION_NAME\")\n",
    "\n",
    "#nypd.groupBy('TRANSIT_DISTRICT').count().show(truncate=False)\n",
    "#nypd.select([count(when((isnan('TRANSIT_DISTRICT')| col('TRANSIT_DISTRICT').isNull()),True))]).show()\n",
    "drop_list.append(\"TRANSIT_DISTRICT\")\n",
    "\n",
    "#nypd.groupBy('SUSP_AGE_GROUP').count().show(truncate=False)\n",
    "#nypd.select([count(when((isnan('SUSP_AGE_GROUP')| col('SUSP_AGE_GROUP').isNull()),True))]).show()\n",
    "drop_list.append(\"SUSP_AGE_GROUP\")\n",
    "\n",
    "#nypd.groupBy('JURIS_DESC').count().show()\n",
    "#nypd.select([count(when((isnan('JURIS_DESC')| col('JURIS_DESC').isNull()),True))]).show()\n",
    "drop_list.append(\"JURIS_DESC\")\n",
    "\n",
    "#THE SAME INFORMATION IS GIVEN BY BORO_NM\n",
    "#nypd.groupBy('PATROL_BORO').count().show(truncate=False)\n",
    "#nypd.select([count(when((isnan('PATROL_BORO')| col('PATROL_BORO').isNull()),True))]).show()\n",
    "drop_list.append(\"PATROL_BORO\")\n",
    "\n",
    "#X_COORD_CD and Y_COORD_CD have high correlation with Longitude and Latitude respectively\n",
    "#nypd.groupBy('X_COORD_CD').count().show(truncate=False)\n",
    "#nypd.select([count(when((isnan('X_COORD_CD')| col('X_COORD_CD').isNull()),True))]).show()\n",
    "drop_list.append(\"X_COORD_CD\")\n",
    "\n",
    "#nypd.groupBy('Y_COORD_CD').count().show(truncate=False)\n",
    "#nypd.select([count(when((isnan('Y_COORD_CD')| col('Y_COORD_CD').isNull()),True))]).show()\n",
    "drop_list.append(\"Y_COORD_CD\")\n",
    "\n",
    "#nypd.groupBy('Lat_lon').count().show(truncate=False)\n",
    "#nypd.select([count(when((isnan('Lat_lon')| col('Lat_lon').isNull()),True))]).show()\n",
    "drop_list.append(\"Lat_lon\")\n",
    "\n",
    "#THE SAME INFORMATION IS GIVEN BY CMPLNT_FR_DT\n",
    "#nypd.groupBy('RPT_DT').count().show()\n",
    "#nypd.select([count(when((isnan('RPT_DT')| col('RPT_DT').isNull()),True))]).show()\n",
    "drop_list.append(\"RPT_DT\")\n",
    "\n",
    "#GIVES INFO ON THE TARGET VARIABLE DIRECTLY\n",
    "#nypd.groupBy('KY_CD').count().show()\n",
    "#nypd.select([count(when((isnan('KY_CD')| col('KY_CD').isNull()),True))]).show()\n",
    "drop_list.append(\"KY_CD\")\n",
    "\n",
    "#nypd.groupBy('OFNS_DESC').count().show()\n",
    "#nypd.select([count(when((isnan('OFNS_DESC')| col('OFNS_DESC').isNull()),True))]).show()\n",
    "drop_list.append(\"OFNS_DESC\")\n",
    "\n",
    "#nypd.groupBy('PD_CD').count().show()\n",
    "#nypd.select([count(when((isnan('PD_CD')| col('PD_CD').isNull()),True))]).show()\n",
    "drop_list.append(\"PD_CD\")\n",
    "\n",
    "#nypd.groupBy('PD_DESC').count().show()\n",
    "#nypd.select([count(when((isnan('PD_DESC')| col('PD_DESC').isNull()),True))]).show()\n",
    "drop_list.append(\"PD_DESC\")\n",
    "#DROP CMPLNT_NUM, CMPLNT_TO_DT, CMPLNT_TO_TM, ADDR_PCT_CD, HADEVELOPT, HOUSING_PSA, PARKS_NM, STATION_NAME, TRANSIT_DISTRICT, \n",
    "# SUSP_AGE_GROUP, PATROL_BORO, RPT_DT, KY_CD, OFNS_DESC, PD_CD, PD_DESC"
   ]
  },
  {
   "cell_type": "code",
   "execution_count": 205,
   "id": "naval-bargain",
   "metadata": {},
   "outputs": [],
   "source": [
    "drop_list\n",
    "new_nypd_df = nypd.drop(*drop_list)"
   ]
  },
  {
   "cell_type": "code",
   "execution_count": 206,
   "id": "entire-bloom",
   "metadata": {},
   "outputs": [],
   "source": [
    "#new_nypd_df.select(\"CMPLNT_FR_TM\").show()\n",
    "#new_nypd_df.select([count(when((isnan('CMPLNT_FR_TM')| col('CMPLNT_FR_TM').isNull()),True))]).show()\n",
    "new_nypd_df = new_nypd_df.na.drop(subset=[\"CMPLNT_FR_TM\"])"
   ]
  },
  {
   "cell_type": "code",
   "execution_count": 207,
   "id": "skilled-edition",
   "metadata": {},
   "outputs": [],
   "source": [
    "new_nypd_df = new_nypd_df.withColumn('CMPLNT_FR_TM', substring('CMPLNT_FR_TM', 1,2))\n",
    "new_nypd_df = new_nypd_df.withColumn(\"Hour\", new_nypd_df['CMPLNT_FR_TM'].cast('int')).drop('CMPLNT_FR_TM')\n",
    "new_nypd_df = new_nypd_df.withColumn(\"Time\",\n",
    "                       fn.when((col(\"Hour\") >= 6) & (col(\"Hour\") <= 19) , \"Day\")\n",
    "                        .otherwise(\"Night\"))\n",
    "new_nypd_df = new_nypd_df.drop('Hour')"
   ]
  },
  {
   "cell_type": "code",
   "execution_count": 208,
   "id": "accompanied-transparency",
   "metadata": {},
   "outputs": [],
   "source": [
    "new_nypd_df = new_nypd_df.withColumn('CMPLNT_FR_DT', substring('CMPLNT_FR_DT', 1,2))\n",
    "new_nypd_df = new_nypd_df.withColumnRenamed(\"CMPLNT_FR_DT\",\"Month\")\n",
    "#new_nypd_df.select('Month').show()"
   ]
  },
  {
   "cell_type": "code",
   "execution_count": 209,
   "id": "stopped-insertion",
   "metadata": {},
   "outputs": [],
   "source": [
    "#df1.show()\n",
    "#new_nypd_df.select(col('Month'))\n",
    "\n",
    "new_nypd_df = new_nypd_df.withColumn(\"Season\",\n",
    "                       fn.when((col(\"Month\") == \"03\") | (col(\"Month\") == \"04\") | (col(\"Month\") == \"05\") , \"Spring\")\n",
    "                        .when((col(\"Month\") == \"06\") | (col(\"Month\") == \"07\") | (col(\"Month\") == \"08\") , \"Summer\")\n",
    "                        .when((col(\"Month\") == \"09\") | (col(\"Month\") == \"10\") | (col(\"Month\") == \"11\") , \"Autumn\")\n",
    "                        .otherwise(\"Winter\"))\n",
    "new_nypd_df = new_nypd_df.drop('Month')"
   ]
  },
  {
   "cell_type": "code",
   "execution_count": 210,
   "id": "occupational-bleeding",
   "metadata": {},
   "outputs": [
    {
     "name": "stdout",
     "output_type": "stream",
     "text": [
      "+-------------+------+\n",
      "|      BORO_NM| count|\n",
      "+-------------+------+\n",
      "|         null|  5102|\n",
      "|       QUEENS|432290|\n",
      "|     BROOKLYN|663953|\n",
      "|        BRONX|467132|\n",
      "|    MANHATTAN|411166|\n",
      "|STATEN ISLAND|105722|\n",
      "+-------------+------+\n",
      "\n"
     ]
    }
   ],
   "source": [
    "#new_nypd_df.groupBy('BORO_NM').count().show()\n",
    "#new_nypd_df.select([count(when((isnan('BORO_NM')| col('BORO_NM').isNull()),True))]).show()\n",
    "#new_nypd_df.groupBy('CRM_ATPT_CPTD_CD').count().show()\n",
    "new_nypd_df = new_nypd_df.na.drop(subset=[\"BORO_NM\",\"CRM_ATPT_CPTD_CD\"])"
   ]
  },
  {
   "cell_type": "code",
   "execution_count": 211,
   "id": "distinguished-landing",
   "metadata": {},
   "outputs": [],
   "source": [
    "#new_nypd_df.groupBy('JURISDICTION_CODE').count().show()\n",
    "#new_nypd_df.select([count(when((isnan('JURISDICTION_CODE')| col('JURISDICTION_CODE').isNull()),True))]).show()\n",
    "new_nypd_df = new_nypd_df.withColumn(\"JURISDICTION\",\n",
    "                       fn.when((col(\"JURISDICTION_CODE\") == \"0\") , \"Police\")\n",
    "                        .otherwise(\"Other\"))\n",
    "new_nypd_df = new_nypd_df.drop('JURISDICTION_CODE')"
   ]
  },
  {
   "cell_type": "code",
   "execution_count": 113,
   "id": "thermal-violence",
   "metadata": {},
   "outputs": [
    {
     "name": "stdout",
     "output_type": "stream",
     "text": [
      "+-----------+------+\n",
      "| LAW_CAT_CD| count|\n",
      "+-----------+------+\n",
      "|     FELONY|512147|\n",
      "|MISDEMEANOR|920266|\n",
      "|  VIOLATION|647848|\n",
      "+-----------+------+\n",
      "\n",
      "+--------------------------------------------------------------------------+\n",
      "|count(CASE WHEN (isnan(LAW_CAT_CD) OR (LAW_CAT_CD IS NULL)) THEN true END)|\n",
      "+--------------------------------------------------------------------------+\n",
      "|                                                                         0|\n",
      "+--------------------------------------------------------------------------+\n",
      "\n"
     ]
    }
   ],
   "source": [
    "new_nypd_df.groupBy('LAW_CAT_CD').count().show()\n",
    "new_nypd_df.select([count(when((isnan('LAW_CAT_CD')| col('LAW_CAT_CD').isNull()),True))]).show()\n",
    "\n"
   ]
  },
  {
   "cell_type": "code",
   "execution_count": 212,
   "id": "announced-direction",
   "metadata": {},
   "outputs": [],
   "source": [
    "new_nypd_df = new_nypd_df.withColumn(\"LAW_CAT_CD\",\n",
    "                                    fn.when((col(\"LAW_CAT_CD\") == \"FELONY\") , 1)\n",
    "                                    .otherwise(0))"
   ]
  },
  {
   "cell_type": "code",
   "execution_count": 213,
   "id": "incredible-myrtle",
   "metadata": {},
   "outputs": [],
   "source": [
    "#new_nypd_df.groupBy('LOC_OF_OCCUR_DESC').count().show()\n",
    "#new_nypd_df.select([count(when((isnan('LOC_OF_OCCUR_DESC')| col('LOC_OF_OCCUR_DESC').isNull()),True))]).show()"
   ]
  },
  {
   "cell_type": "code",
   "execution_count": 214,
   "id": "related-program",
   "metadata": {},
   "outputs": [],
   "source": [
    "new_nypd_df = new_nypd_df.withColumn(\"LOC_OF_OCCUR_DESC\",\n",
    "                       fn.when((col(\"LOC_OF_OCCUR_DESC\") == \"INSIDE\") , \"Inside\")\n",
    "                        .otherwise(\"Outside\"))"
   ]
  },
  {
   "cell_type": "code",
   "execution_count": 215,
   "id": "developmental-venezuela",
   "metadata": {},
   "outputs": [],
   "source": [
    "#new_nypd_df.groupBy('PREM_TYP_DESC').count().show(truncate=False)\n",
    "#new_nypd_df.select([count(when((isnan('PREM_TYP_DESC')| col('PREM_TYP_DESC').isNull()),True))]).show()\n",
    "#CHANGE TO PUBLIC SETTING AND PRIVATE PREMISES"
   ]
  },
  {
   "cell_type": "code",
   "execution_count": 216,
   "id": "exotic-stress",
   "metadata": {},
   "outputs": [],
   "source": [
    "new_nypd_df = new_nypd_df.withColumn(\"PREM_TYP_DESC\",\n",
    "                                    fn.when((col(\"PREM_TYP_DESC\") == \"RESIDENCE - APT. HOUSE\") | (col(\"PREM_TYP_DESC\") == \"RESIDENCE - PUBLIC HOUSING\")| (col(\"PREM_TYP_DESC\") == \"RESIDENCE-HOUSE\") , \"RESIDENCE\")\n",
    "                                    .otherwise(\"Public\"))"
   ]
  },
  {
   "cell_type": "code",
   "execution_count": 217,
   "id": "prepared-bridal",
   "metadata": {},
   "outputs": [
    {
     "name": "stdout",
     "output_type": "stream",
     "text": [
      "+------------------------------+-------+\n",
      "|SUSP_RACE                     |count  |\n",
      "+------------------------------+-------+\n",
      "|WHITE                         |310887 |\n",
      "|BLACK                         |1046937|\n",
      "|AMERICAN INDIAN/ALASKAN NATIVE|9384   |\n",
      "|BLACK HISPANIC                |142902 |\n",
      "|WHITE HISPANIC                |477971 |\n",
      "|OTHER                         |9      |\n",
      "|ASIAN / PACIFIC ISLANDER      |92171  |\n",
      "+------------------------------+-------+\n",
      "\n",
      "+------------------------------------------------------------------------+\n",
      "|count(CASE WHEN (isnan(SUSP_RACE) OR (SUSP_RACE IS NULL)) THEN true END)|\n",
      "+------------------------------------------------------------------------+\n",
      "|                                                                       0|\n",
      "+------------------------------------------------------------------------+\n",
      "\n"
     ]
    }
   ],
   "source": [
    "new_nypd_df.groupBy('SUSP_RACE').count().show(truncate=False)\n",
    "new_nypd_df.select([count(when((isnan('SUSP_RACE')| col('SUSP_RACE').isNull()),True))]).show()"
   ]
  },
  {
   "cell_type": "code",
   "execution_count": 218,
   "id": "aging-second",
   "metadata": {},
   "outputs": [],
   "source": [
    "#new_nypd_df.groupBy('SUSP_SEX').count().show(truncate=False)\n",
    "#new_nypd_df.select([count(when((isnan('SUSP_SEX')| col('SUSP_SEX').isNull()),True))]).show()\n",
    "new_nypd_df = new_nypd_df.na.drop(subset=[\"SUSP_SEX\"])"
   ]
  },
  {
   "cell_type": "code",
   "execution_count": 219,
   "id": "velvet-energy",
   "metadata": {},
   "outputs": [
    {
     "name": "stdout",
     "output_type": "stream",
     "text": [
      "+-------------+------+\n",
      "|VIC_AGE_GROUP|count |\n",
      "+-------------+------+\n",
      "|944          |1     |\n",
      "|926          |1     |\n",
      "|-71          |1     |\n",
      "|-942         |1     |\n",
      "|-1           |1     |\n",
      "|-959         |2     |\n",
      "|938          |3     |\n",
      "|-954         |2     |\n",
      "|-39          |1     |\n",
      "|-55          |1     |\n",
      "|-985         |1     |\n",
      "|-929         |1     |\n",
      "|970          |1     |\n",
      "|1012         |1     |\n",
      "|924          |1     |\n",
      "|-983         |1     |\n",
      "|-59          |1     |\n",
      "|-7           |1     |\n",
      "|<18          |177962|\n",
      "|917          |1     |\n",
      "+-------------+------+\n",
      "only showing top 20 rows\n",
      "\n",
      "+--------------------------------------------------------------------------------+\n",
      "|count(CASE WHEN (isnan(VIC_AGE_GROUP) OR (VIC_AGE_GROUP IS NULL)) THEN true END)|\n",
      "+--------------------------------------------------------------------------------+\n",
      "|                                                                           26523|\n",
      "+--------------------------------------------------------------------------------+\n",
      "\n"
     ]
    }
   ],
   "source": [
    "new_nypd_df.groupBy('VIC_AGE_GROUP').count().show(truncate=False)\n",
    "new_nypd_df.select([count(when((isnan('VIC_AGE_GROUP')| col('VIC_AGE_GROUP').isNull()),True))]).show()\n",
    "new_nypd_df = new_nypd_df.withColumn(\"VIC_AGE_GROUP\",\n",
    "                       fn.when((col(\"VIC_AGE_GROUP\") == \"<18\") , \"<18\")\n",
    "                       .when((col(\"VIC_AGE_GROUP\") == \"18-24\"), \"18-24\")\n",
    "                       .when((col(\"VIC_AGE_GROUP\") == \"25-44\" ), \"25-44\")\n",
    "                       .when((col(\"VIC_AGE_GROUP\") == \"45-64\"), \"45-64\")\n",
    "                       .when((col(\"VIC_AGE_GROUP\") == \"65+\"), \"65+\")\n",
    "                        .otherwise(None))\n",
    "new_nypd_df = new_nypd_df.na.drop(subset=[\"VIC_AGE_GROUP\"])"
   ]
  },
  {
   "cell_type": "code",
   "execution_count": 220,
   "id": "prompt-eating",
   "metadata": {},
   "outputs": [
    {
     "name": "stdout",
     "output_type": "stream",
     "text": [
      "+------------------------------+------+\n",
      "|VIC_RACE                      |count |\n",
      "+------------------------------+------+\n",
      "|WHITE                         |404891|\n",
      "|BLACK                         |819423|\n",
      "|AMERICAN INDIAN/ALASKAN NATIVE|12761 |\n",
      "|BLACK HISPANIC                |112129|\n",
      "|WHITE HISPANIC                |530188|\n",
      "|OTHER                         |12    |\n",
      "|ASIAN / PACIFIC ISLANDER      |150726|\n",
      "+------------------------------+------+\n",
      "\n",
      "+----------------------------------------------------------------------+\n",
      "|count(CASE WHEN (isnan(VIC_RACE) OR (VIC_RACE IS NULL)) THEN true END)|\n",
      "+----------------------------------------------------------------------+\n",
      "|                                                                     0|\n",
      "+----------------------------------------------------------------------+\n",
      "\n"
     ]
    }
   ],
   "source": [
    "#new_nypd_df.groupBy('VIC_RACE').count().show(truncate=False)\n",
    "#new_nypd_df.select([count(when((isnan('VIC_RACE')| col('VIC_RACE').isNull()),True))]).show()"
   ]
  },
  {
   "cell_type": "code",
   "execution_count": 221,
   "id": "prerequisite-ideal",
   "metadata": {},
   "outputs": [
    {
     "name": "stdout",
     "output_type": "stream",
     "text": [
      "+-------+-------+\n",
      "|VIC_SEX|count  |\n",
      "+-------+-------+\n",
      "|F      |1257200|\n",
      "|E      |34     |\n",
      "|M      |772751 |\n",
      "|D      |145    |\n",
      "+-------+-------+\n",
      "\n",
      "+--------------------------------------------------------------------+\n",
      "|count(CASE WHEN (isnan(VIC_SEX) OR (VIC_SEX IS NULL)) THEN true END)|\n",
      "+--------------------------------------------------------------------+\n",
      "|                                                                   0|\n",
      "+--------------------------------------------------------------------+\n",
      "\n"
     ]
    }
   ],
   "source": [
    "#new_nypd_df.groupBy('VIC_SEX').count().show(truncate=False)\n",
    "#new_nypd_df.select([count(when((isnan('VIC_SEX')| col('VIC_SEX').isNull()),True))]).show()"
   ]
  },
  {
   "cell_type": "code",
   "execution_count": 222,
   "id": "commercial-fabric",
   "metadata": {},
   "outputs": [
    {
     "name": "stdout",
     "output_type": "stream",
     "text": [
      "+-------------------+--------------------+\n",
      "|corr_X_COORD_CD_Lat|corr_Y_COORD_CD_Long|\n",
      "+-------------------+--------------------+\n",
      "|  0.999997985303004|  0.9999887030878197|\n",
      "+-------------------+--------------------+\n",
      "\n"
     ]
    }
   ],
   "source": [
    "#Checking correlation between X co-ordinates and Y-co-ordinates and longitude and latitude respectively. \n",
    "coord_latlong_corr_df = nypd.select(fn.corr('X_COORD_CD', 'Longitude').alias('corr_X_COORD_CD_Lat'),\n",
    "                                    fn.corr('Y_COORD_CD', 'Latitude').alias('corr_Y_COORD_CD_Long'))\n",
    "coord_latlong_corr_df.show()\n",
    "\n",
    "#Drop X_COORD_CD and Y_COORD_CD because they are highly correlated with Latitude and Longitude\n",
    "\n"
   ]
  },
  {
   "cell_type": "code",
   "execution_count": 223,
   "id": "charming-tradition",
   "metadata": {},
   "outputs": [
    {
     "name": "stdout",
     "output_type": "stream",
     "text": [
      "+------------------------------------------------------------------------+\n",
      "|count(CASE WHEN (isnan(Longitude) OR (Longitude IS NULL)) THEN true END)|\n",
      "+------------------------------------------------------------------------+\n",
      "|                                                                       0|\n",
      "+------------------------------------------------------------------------+\n",
      "\n",
      "+----------------------------------------------------------------------+\n",
      "|count(CASE WHEN (isnan(Latitude) OR (Latitude IS NULL)) THEN true END)|\n",
      "+----------------------------------------------------------------------+\n",
      "|                                                                     0|\n",
      "+----------------------------------------------------------------------+\n",
      "\n"
     ]
    }
   ],
   "source": [
    "new_nypd_df.select([count(when((isnan('Longitude')| col('Longitude').isNull()),True))]).show()\n",
    "new_nypd_df.select([count(when((isnan('Latitude')| col('Latitude').isNull()),True))]).show()\n",
    "\n",
    "new_nypd_df = new_nypd_df.withColumn(\"Latitude\",new_nypd_df.Latitude.cast('float'))\n",
    "new_nypd_df = new_nypd_df.withColumn(\"Longitude\",new_nypd_df.Longitude.cast('float'))"
   ]
  },
  {
   "cell_type": "code",
   "execution_count": 125,
   "id": "fiscal-stomach",
   "metadata": {},
   "outputs": [
    {
     "name": "stdout",
     "output_type": "stream",
     "text": [
      "root\n",
      " |-- CRM_ATPT_CPTD_CD: string (nullable = true)\n",
      " |-- LAW_CAT_CD: integer (nullable = false)\n",
      " |-- BORO_NM: string (nullable = true)\n",
      " |-- LOC_OF_OCCUR_DESC: string (nullable = false)\n",
      " |-- PREM_TYP_DESC: string (nullable = false)\n",
      " |-- SUSP_RACE: string (nullable = true)\n",
      " |-- SUSP_SEX: string (nullable = true)\n",
      " |-- Latitude: float (nullable = true)\n",
      " |-- Longitude: float (nullable = true)\n",
      " |-- VIC_AGE_GROUP: string (nullable = true)\n",
      " |-- VIC_RACE: string (nullable = true)\n",
      " |-- VIC_SEX: string (nullable = true)\n",
      " |-- Time: string (nullable = false)\n",
      " |-- Season: string (nullable = false)\n",
      " |-- JURISDICTION: string (nullable = false)\n",
      "\n"
     ]
    }
   ],
   "source": [
    "new_nypd_df.printSchema()"
   ]
  },
  {
   "cell_type": "code",
   "execution_count": 224,
   "id": "italic-volleyball",
   "metadata": {},
   "outputs": [],
   "source": [
    "categorical_columns= ['CRM_ATPT_CPTD_CD', 'BORO_NM', 'LOC_OF_OCCUR_DESC', 'PREM_TYP_DESC','SUSP_RACE', 'VIC_AGE_GROUP',\\\n",
    "                      'VIC_RACE','VIC_SEX', 'Time', 'Season', 'JURISDICTION']\n",
    "\n",
    "indexers = [\n",
    "    StringIndexer(inputCol=c, outputCol=\"{0}_indexed\".format(c))\n",
    "    for c in categorical_columns\n",
    "]"
   ]
  },
  {
   "cell_type": "code",
   "execution_count": 225,
   "id": "sexual-plenty",
   "metadata": {},
   "outputs": [],
   "source": [
    "encoders = [OneHotEncoder(dropLast=False,inputCol=indexer.getOutputCol(),\n",
    "            outputCol=\"{0}_encoded\".format(indexer.getOutputCol())) \n",
    "    for indexer in indexers\n",
    "]"
   ]
  },
  {
   "cell_type": "code",
   "execution_count": 226,
   "id": "peaceful-macedonia",
   "metadata": {},
   "outputs": [],
   "source": [
    "assembler = VectorAssembler(inputCols=[encoder.getOutputCol() for encoder in encoders],outputCol=\"features\")"
   ]
  },
  {
   "cell_type": "code",
   "execution_count": 129,
   "id": "otherwise-pitch",
   "metadata": {},
   "outputs": [],
   "source": [
    "sample_nypd_df = new_nypd_df.sample(withReplacement=False, fraction=0.15, seed=0)"
   ]
  },
  {
   "cell_type": "code",
   "execution_count": 227,
   "id": "nominated-healthcare",
   "metadata": {},
   "outputs": [],
   "source": [
    "one_hot_encoder =  Pipeline(stages=indexers + encoders + [assembler]).fit(new_nypd_df)"
   ]
  },
  {
   "cell_type": "code",
   "execution_count": 228,
   "id": "prostate-edmonton",
   "metadata": {},
   "outputs": [],
   "source": [
    "data1 = one_hot_encoder.transform(new_nypd_df)"
   ]
  },
  {
   "cell_type": "code",
   "execution_count": 229,
   "id": "executive-victory",
   "metadata": {},
   "outputs": [],
   "source": [
    "training_df, validation_df, testing_df = data1.randomSplit([0.6, 0.3, 0.1], seed=1)"
   ]
  },
  {
   "cell_type": "code",
   "execution_count": 230,
   "id": "beautiful-duplicate",
   "metadata": {},
   "outputs": [],
   "source": [
    "from pyspark.ml import regression\n",
    "pipe2_model = Pipeline(stages=[\n",
    "  classification.LogisticRegression(featuresCol='features', labelCol='LAW_CAT_CD')  \n",
    "]).fit(training_df)"
   ]
  },
  {
   "cell_type": "code",
   "execution_count": 231,
   "id": "distant-fisher",
   "metadata": {},
   "outputs": [
    {
     "data": {
      "text/plain": [
       "DataFrame[CRM_ATPT_CPTD_CD: string, LAW_CAT_CD: int, BORO_NM: string, LOC_OF_OCCUR_DESC: string, PREM_TYP_DESC: string, SUSP_RACE: string, SUSP_SEX: string, Latitude: float, Longitude: float, VIC_AGE_GROUP: string, VIC_RACE: string, VIC_SEX: string, Time: string, Season: string, JURISDICTION: string, CRM_ATPT_CPTD_CD_indexed: double, BORO_NM_indexed: double, LOC_OF_OCCUR_DESC_indexed: double, PREM_TYP_DESC_indexed: double, SUSP_RACE_indexed: double, VIC_AGE_GROUP_indexed: double, VIC_RACE_indexed: double, VIC_SEX_indexed: double, Time_indexed: double, Season_indexed: double, JURISDICTION_indexed: double, CRM_ATPT_CPTD_CD_indexed_encoded: vector, BORO_NM_indexed_encoded: vector, LOC_OF_OCCUR_DESC_indexed_encoded: vector, PREM_TYP_DESC_indexed_encoded: vector, SUSP_RACE_indexed_encoded: vector, VIC_AGE_GROUP_indexed_encoded: vector, VIC_RACE_indexed_encoded: vector, VIC_SEX_indexed_encoded: vector, Time_indexed_encoded: vector, Season_indexed_encoded: vector, JURISDICTION_indexed_encoded: vector, features: vector, rawPrediction: vector, probability: vector, prediction: double]"
      ]
     },
     "execution_count": 231,
     "metadata": {},
     "output_type": "execute_result"
    }
   ],
   "source": [
    "pipe2_model.transform(training_df)"
   ]
  },
  {
   "cell_type": "code",
   "execution_count": 232,
   "id": "liked-semiconductor",
   "metadata": {},
   "outputs": [
    {
     "name": "stdout",
     "output_type": "stream",
     "text": [
      "+----------------+----------+-------+-----------------+-------------+---------+--------+--------+---------+-------------+--------+-------+----+------+------------+------------------------+---------------+-------------------------+---------------------+-----------------+---------------------+----------------+---------------+------------+--------------+--------------------+--------------------------------+-----------------------+---------------------------------+-----------------------------+-------------------------+-----------------------------+------------------------+-----------------------+--------------------+----------------------+----------------------------+--------------------+--------------------+--------------------+----------+\n",
      "|CRM_ATPT_CPTD_CD|LAW_CAT_CD|BORO_NM|LOC_OF_OCCUR_DESC|PREM_TYP_DESC|SUSP_RACE|SUSP_SEX|Latitude|Longitude|VIC_AGE_GROUP|VIC_RACE|VIC_SEX|Time|Season|JURISDICTION|CRM_ATPT_CPTD_CD_indexed|BORO_NM_indexed|LOC_OF_OCCUR_DESC_indexed|PREM_TYP_DESC_indexed|SUSP_RACE_indexed|VIC_AGE_GROUP_indexed|VIC_RACE_indexed|VIC_SEX_indexed|Time_indexed|Season_indexed|JURISDICTION_indexed|CRM_ATPT_CPTD_CD_indexed_encoded|BORO_NM_indexed_encoded|LOC_OF_OCCUR_DESC_indexed_encoded|PREM_TYP_DESC_indexed_encoded|SUSP_RACE_indexed_encoded|VIC_AGE_GROUP_indexed_encoded|VIC_RACE_indexed_encoded|VIC_SEX_indexed_encoded|Time_indexed_encoded|Season_indexed_encoded|JURISDICTION_indexed_encoded|            features|       rawPrediction|         probability|prediction|\n",
      "+----------------+----------+-------+-----------------+-------------+---------+--------+--------+---------+-------------+--------+-------+----+------+------------+------------------------+---------------+-------------------------+---------------------+-----------------+---------------------+----------------+---------------+------------+--------------+--------------------+--------------------------------+-----------------------+---------------------------------+-----------------------------+-------------------------+-----------------------------+------------------------+-----------------------+--------------------+----------------------+----------------------------+--------------------+--------------------+--------------------+----------+\n",
      "|       ATTEMPTED|         0|  BRONX|           Inside|       Public|    BLACK|       F|40.81689|-73.91638|        25-44|   BLACK|      F| Day|Spring|      Police|                     1.0|            1.0|                      0.0|                  1.0|              0.0|                  0.0|             0.0|            0.0|         0.0|           2.0|                 0.0|                   (2,[1],[1.0])|          (5,[1],[1.0])|                    (2,[0],[1.0])|                (2,[1],[1.0])|            (7,[0],[1.0])|                (5,[0],[1.0])|           (7,[0],[1.0])|          (4,[0],[1.0])|       (2,[0],[1.0])|         (4,[2],[1.0])|               (2,[0],[1.0])|(42,[1,3,7,10,11,...|[-0.7665707662519...|[0.31722138480297...|       1.0|\n",
      "+----------------+----------+-------+-----------------+-------------+---------+--------+--------+---------+-------------+--------+-------+----+------+------------+------------------------+---------------+-------------------------+---------------------+-----------------+---------------------+----------------+---------------+------------+--------------+--------------------+--------------------------------+-----------------------+---------------------------------+-----------------------------+-------------------------+-----------------------------+------------------------+-----------------------+--------------------+----------------------+----------------------------+--------------------+--------------------+--------------------+----------+\n",
      "only showing top 1 row\n",
      "\n"
     ]
    }
   ],
   "source": [
    "pipe2_model.transform(training_df).show(1)"
   ]
  },
  {
   "cell_type": "code",
   "execution_count": 233,
   "id": "amazing-trademark",
   "metadata": {},
   "outputs": [
    {
     "data": {
      "text/plain": [
       "DenseVector([-0.4808, 1.9965, 0.1688, -0.0481, 0.122, -0.0262, -0.4053, -0.1085, 0.212, -0.0956, 0.1965, 0.4174, 0.0006, -0.5297, 0.1454, -0.4542, -0.5473, 1.1796, -0.0574, -0.1874, 0.1771, 0.3511, 0.514, -0.2523, 0.086, 0.2394, 0.4455, -0.0051, 0.0564, 0.8797, -0.1628, 0.2675, 0.9524, 1.8711, -0.1479, 0.2557, 0.0293, 0.0609, -0.0283, 0.0726, 0.0517, 0.1762])"
      ]
     },
     "execution_count": 233,
     "metadata": {},
     "output_type": "execute_result"
    }
   ],
   "source": [
    "pipe2_model.stages[0].coefficients"
   ]
  },
  {
   "cell_type": "code",
   "execution_count": 234,
   "id": "interested-drawing",
   "metadata": {},
   "outputs": [],
   "source": [
    "evaluator = evaluation.BinaryClassificationEvaluator(labelCol='LAW_CAT_CD')\n",
    "AUC = evaluator.evaluate(pipe2_model.transform(validation_df))"
   ]
  },
  {
   "cell_type": "code",
   "execution_count": 235,
   "id": "cardiovascular-mercy",
   "metadata": {},
   "outputs": [
    {
     "data": {
      "text/plain": [
       "0.6727436038252652"
      ]
     },
     "execution_count": 235,
     "metadata": {},
     "output_type": "execute_result"
    }
   ],
   "source": [
    "AUC"
   ]
  },
  {
   "cell_type": "code",
   "execution_count": 236,
   "id": "coated-knitting",
   "metadata": {},
   "outputs": [
    {
     "data": {
      "text/plain": [
       "array([[150527.,   2647.],\n",
       "       [ 44069.,   5675.]])"
      ]
     },
     "execution_count": 236,
     "metadata": {},
     "output_type": "execute_result"
    }
   ],
   "source": [
    "from pyspark.sql.types import FloatType\n",
    "from pyspark.mllib.evaluation import MulticlassMetrics\n",
    "predictions = pipe2_model.transform(testing_df)\n",
    "preds_and_labels = predictions.select(['prediction','LAW_CAT_CD']).withColumn('LAW_CAT_CD', fn.col('LAW_CAT_CD').cast(FloatType())).orderBy('prediction')\n",
    "\n",
    "#select only prediction and label columns\n",
    "preds_and_labels = preds_and_labels.select(['prediction','LAW_CAT_CD'])\n",
    "\n",
    "confusion_matrix = MulticlassMetrics(preds_and_labels.rdd.map(tuple)).confusionMatrix().toArray()\n",
    "confusion_matrix"
   ]
  },
  {
   "cell_type": "code",
   "execution_count": 237,
   "id": "severe-keyboard",
   "metadata": {},
   "outputs": [
    {
     "data": {
      "text/plain": [
       "2030130"
      ]
     },
     "execution_count": 237,
     "metadata": {},
     "output_type": "execute_result"
    }
   ],
   "source": [
    "data1.count()"
   ]
  },
  {
   "cell_type": "code",
   "execution_count": 174,
   "id": "bright-compact",
   "metadata": {},
   "outputs": [],
   "source": [
    "categorical_columns= ['CRM_ATPT_CPTD_CD', 'BORO_NM', 'LOC_OF_OCCUR_DESC', 'PREM_TYP_DESC','SUSP_RACE', 'VIC_AGE_GROUP',\\\n",
    "                      'VIC_RACE','VIC_SEX', 'Time', 'Season', 'JURISDICTION']"
   ]
  },
  {
   "cell_type": "code",
   "execution_count": 238,
   "id": "caring-change",
   "metadata": {},
   "outputs": [
    {
     "name": "stdout",
     "output_type": "stream",
     "text": [
      "+------------------------+-------+\n",
      "|CRM_ATPT_CPTD_CD_indexed|count  |\n",
      "+------------------------+-------+\n",
      "|0.0                     |1996289|\n",
      "|1.0                     |33841  |\n",
      "+------------------------+-------+\n",
      "\n",
      "+----------------+-------+\n",
      "|CRM_ATPT_CPTD_CD|count  |\n",
      "+----------------+-------+\n",
      "|ATTEMPTED       |33841  |\n",
      "|COMPLETED       |1996289|\n",
      "+----------------+-------+\n",
      "\n"
     ]
    }
   ],
   "source": [
    "data1.groupBy('CRM_ATPT_CPTD_CD_indexed').count().show(truncate=False)\n",
    "data1.groupBy('CRM_ATPT_CPTD_CD').count().show(truncate=False)"
   ]
  },
  {
   "cell_type": "code",
   "execution_count": 239,
   "id": "swiss-spirituality",
   "metadata": {},
   "outputs": [
    {
     "data": {
      "text/plain": [
       "DenseVector([-0.4808, 1.9965, 0.1688, -0.0481, 0.122, -0.0262, -0.4053, -0.1085, 0.212, -0.0956, 0.1965, 0.4174, 0.0006, -0.5297, 0.1454, -0.4542, -0.5473, 1.1796, -0.0574, -0.1874, 0.1771, 0.3511, 0.514, -0.2523, 0.086, 0.2394, 0.4455, -0.0051, 0.0564, 0.8797, -0.1628, 0.2675, 0.9524, 1.8711, -0.1479, 0.2557, 0.0293, 0.0609, -0.0283, 0.0726, 0.0517, 0.1762])"
      ]
     },
     "execution_count": 239,
     "metadata": {},
     "output_type": "execute_result"
    }
   ],
   "source": [
    "pipe2_model.stages[0].coefficients"
   ]
  },
  {
   "cell_type": "code",
   "execution_count": 240,
   "id": "african-journey",
   "metadata": {},
   "outputs": [
    {
     "name": "stdout",
     "output_type": "stream",
     "text": [
      "+-----------------------+------+\n",
      "|BORO_NM_indexed_encoded|count |\n",
      "+-----------------------+------+\n",
      "|(5,[1],[1.0])          |456921|\n",
      "|(5,[4],[1.0])          |103277|\n",
      "|(5,[3],[1.0])          |399562|\n",
      "|(5,[0],[1.0])          |648007|\n",
      "|(5,[2],[1.0])          |422363|\n",
      "+-----------------------+------+\n",
      "\n",
      "+-------------+------+\n",
      "|BORO_NM      |count |\n",
      "+-------------+------+\n",
      "|QUEENS       |422363|\n",
      "|BROOKLYN     |648007|\n",
      "|BRONX        |456921|\n",
      "|MANHATTAN    |399562|\n",
      "|STATEN ISLAND|103277|\n",
      "+-------------+------+\n",
      "\n"
     ]
    },
    {
     "data": {
      "text/plain": [
       "array([ 1.68771591e-01, -4.81195302e-02,  1.22045441e-01, -2.62021901e-02,\n",
       "       -4.05267879e-01, -1.08547843e-01,  2.11967870e-01, -9.55591788e-02,\n",
       "        1.96493510e-01,  4.17373673e-01,  6.25251718e-04, -5.29652904e-01,\n",
       "        1.45441369e-01, -4.54191349e-01, -5.47289854e-01,  1.17964978e+00,\n",
       "       -5.73908300e-02, -1.87397777e-01,  1.77072999e-01,  3.51131298e-01,\n",
       "        5.13988595e-01, -2.52332898e-01,  8.59580205e-02,  2.39411555e-01,\n",
       "        4.45502158e-01, -5.13165932e-03,  5.64052423e-02,  8.79670327e-01,\n",
       "       -1.62810216e-01,  2.67501004e-01,  9.52445198e-01,  1.87107926e+00,\n",
       "       -1.47949701e-01,  2.55653434e-01,  2.92528091e-02,  6.08905585e-02,\n",
       "       -2.82654022e-02,  7.26146140e-02,  5.16622967e-02,  1.76245143e-01])"
      ]
     },
     "execution_count": 240,
     "metadata": {},
     "output_type": "execute_result"
    }
   ],
   "source": [
    "data1.groupBy('BORO_NM_indexed_encoded').count().show(truncate=False)\n",
    "data1.groupBy('BORO_NM').count().show(truncate=False)\n",
    "\n",
    "pipe2_model.stages[0].coefficients[2:]"
   ]
  },
  {
   "cell_type": "code",
   "execution_count": 241,
   "id": "continuing-architecture",
   "metadata": {},
   "outputs": [
    {
     "name": "stdout",
     "output_type": "stream",
     "text": [
      "+---------------------------------+-------+\n",
      "|LOC_OF_OCCUR_DESC_indexed_encoded|count  |\n",
      "+---------------------------------+-------+\n",
      "|(2,[0],[1.0])                    |1221539|\n",
      "|(2,[1],[1.0])                    |808591 |\n",
      "+---------------------------------+-------+\n",
      "\n",
      "+-----------------+-------+\n",
      "|LOC_OF_OCCUR_DESC|count  |\n",
      "+-----------------+-------+\n",
      "|Inside           |1221539|\n",
      "|Outside          |808591 |\n",
      "+-----------------+-------+\n",
      "\n"
     ]
    },
    {
     "data": {
      "text/plain": [
       "array([-1.08547843e-01,  2.11967870e-01, -9.55591788e-02,  1.96493510e-01,\n",
       "        4.17373673e-01,  6.25251718e-04, -5.29652904e-01,  1.45441369e-01,\n",
       "       -4.54191349e-01, -5.47289854e-01,  1.17964978e+00, -5.73908300e-02,\n",
       "       -1.87397777e-01,  1.77072999e-01,  3.51131298e-01,  5.13988595e-01,\n",
       "       -2.52332898e-01,  8.59580205e-02,  2.39411555e-01,  4.45502158e-01,\n",
       "       -5.13165932e-03,  5.64052423e-02,  8.79670327e-01, -1.62810216e-01,\n",
       "        2.67501004e-01,  9.52445198e-01,  1.87107926e+00, -1.47949701e-01,\n",
       "        2.55653434e-01,  2.92528091e-02,  6.08905585e-02, -2.82654022e-02,\n",
       "        7.26146140e-02,  5.16622967e-02,  1.76245143e-01])"
      ]
     },
     "execution_count": 241,
     "metadata": {},
     "output_type": "execute_result"
    }
   ],
   "source": [
    "data1.groupBy('LOC_OF_OCCUR_DESC_indexed_encoded').count().show(truncate=False)\n",
    "data1.groupBy('LOC_OF_OCCUR_DESC').count().show(truncate=False)\n",
    "\n",
    "pipe2_model.stages[0].coefficients[7:]"
   ]
  },
  {
   "cell_type": "code",
   "execution_count": 242,
   "id": "ruled-showcase",
   "metadata": {},
   "outputs": [
    {
     "name": "stdout",
     "output_type": "stream",
     "text": [
      "+-----------------------------+-------+\n",
      "|PREM_TYP_DESC_indexed_encoded|count  |\n",
      "+-----------------------------+-------+\n",
      "|(2,[0],[1.0])                |1150836|\n",
      "|(2,[1],[1.0])                |879294 |\n",
      "+-----------------------------+-------+\n",
      "\n",
      "+-------------+-------+\n",
      "|PREM_TYP_DESC|count  |\n",
      "+-------------+-------+\n",
      "|Public       |879294 |\n",
      "|RESIDENCE    |1150836|\n",
      "+-------------+-------+\n",
      "\n"
     ]
    },
    {
     "data": {
      "text/plain": [
       "array([-9.55591788e-02,  1.96493510e-01,  4.17373673e-01,  6.25251718e-04,\n",
       "       -5.29652904e-01,  1.45441369e-01, -4.54191349e-01, -5.47289854e-01,\n",
       "        1.17964978e+00, -5.73908300e-02, -1.87397777e-01,  1.77072999e-01,\n",
       "        3.51131298e-01,  5.13988595e-01, -2.52332898e-01,  8.59580205e-02,\n",
       "        2.39411555e-01,  4.45502158e-01, -5.13165932e-03,  5.64052423e-02,\n",
       "        8.79670327e-01, -1.62810216e-01,  2.67501004e-01,  9.52445198e-01,\n",
       "        1.87107926e+00, -1.47949701e-01,  2.55653434e-01,  2.92528091e-02,\n",
       "        6.08905585e-02, -2.82654022e-02,  7.26146140e-02,  5.16622967e-02,\n",
       "        1.76245143e-01])"
      ]
     },
     "execution_count": 242,
     "metadata": {},
     "output_type": "execute_result"
    }
   ],
   "source": [
    "data1.groupBy('PREM_TYP_DESC_indexed_encoded').count().show(truncate=False)\n",
    "data1.groupBy('PREM_TYP_DESC').count().show(truncate=False)\n",
    "\n",
    "pipe2_model.stages[0].coefficients[9:]"
   ]
  },
  {
   "cell_type": "code",
   "execution_count": 243,
   "id": "beneficial-communication",
   "metadata": {},
   "outputs": [
    {
     "name": "stdout",
     "output_type": "stream",
     "text": [
      "+-------------------------+-------+\n",
      "|SUSP_RACE_indexed_encoded|count  |\n",
      "+-------------------------+-------+\n",
      "|(7,[6],[1.0])            |9      |\n",
      "|(7,[1],[1.0])            |467670 |\n",
      "|(7,[4],[1.0])            |90220  |\n",
      "|(7,[2],[1.0])            |302636 |\n",
      "|(7,[5],[1.0])            |9159   |\n",
      "|(7,[0],[1.0])            |1020691|\n",
      "|(7,[3],[1.0])            |139745 |\n",
      "+-------------------------+-------+\n",
      "\n",
      "+------------------------------+-------+\n",
      "|SUSP_RACE                     |count  |\n",
      "+------------------------------+-------+\n",
      "|WHITE                         |302636 |\n",
      "|BLACK                         |1020691|\n",
      "|AMERICAN INDIAN/ALASKAN NATIVE|9159   |\n",
      "|BLACK HISPANIC                |139745 |\n",
      "|WHITE HISPANIC                |467670 |\n",
      "|OTHER                         |9      |\n",
      "|ASIAN / PACIFIC ISLANDER      |90220  |\n",
      "+------------------------------+-------+\n",
      "\n"
     ]
    },
    {
     "data": {
      "text/plain": [
       "array([ 4.17373673e-01,  6.25251718e-04, -5.29652904e-01,  1.45441369e-01,\n",
       "       -4.54191349e-01, -5.47289854e-01,  1.17964978e+00, -5.73908300e-02,\n",
       "       -1.87397777e-01,  1.77072999e-01,  3.51131298e-01,  5.13988595e-01,\n",
       "       -2.52332898e-01,  8.59580205e-02,  2.39411555e-01,  4.45502158e-01,\n",
       "       -5.13165932e-03,  5.64052423e-02,  8.79670327e-01, -1.62810216e-01,\n",
       "        2.67501004e-01,  9.52445198e-01,  1.87107926e+00, -1.47949701e-01,\n",
       "        2.55653434e-01,  2.92528091e-02,  6.08905585e-02, -2.82654022e-02,\n",
       "        7.26146140e-02,  5.16622967e-02,  1.76245143e-01])"
      ]
     },
     "execution_count": 243,
     "metadata": {},
     "output_type": "execute_result"
    }
   ],
   "source": [
    "data1.groupBy('SUSP_RACE_indexed_encoded').count().show(truncate=False)\n",
    "data1.groupBy('SUSP_RACE').count().show(truncate=False)\n",
    "\n",
    "pipe2_model.stages[0].coefficients[11:]"
   ]
  },
  {
   "cell_type": "code",
   "execution_count": 244,
   "id": "native-calendar",
   "metadata": {},
   "outputs": [
    {
     "name": "stdout",
     "output_type": "stream",
     "text": [
      "+-----------------------------+------+\n",
      "|VIC_AGE_GROUP_indexed_encoded|count |\n",
      "+-----------------------------+------+\n",
      "|(5,[1],[1.0])                |455832|\n",
      "|(5,[4],[1.0])                |75646 |\n",
      "|(5,[3],[1.0])                |177962|\n",
      "|(5,[0],[1.0])                |970491|\n",
      "|(5,[2],[1.0])                |350199|\n",
      "+-----------------------------+------+\n",
      "\n",
      "+-------------+------+\n",
      "|VIC_AGE_GROUP|count |\n",
      "+-------------+------+\n",
      "|<18          |177962|\n",
      "|25-44        |970491|\n",
      "|65+          |75646 |\n",
      "|18-24        |350199|\n",
      "|45-64        |455832|\n",
      "+-------------+------+\n",
      "\n"
     ]
    },
    {
     "data": {
      "text/plain": [
       "array([-0.05739083, -0.18739778,  0.177073  ,  0.3511313 ,  0.51398859,\n",
       "       -0.2523329 ,  0.08595802,  0.23941156,  0.44550216, -0.00513166,\n",
       "        0.05640524,  0.87967033, -0.16281022,  0.267501  ,  0.9524452 ,\n",
       "        1.87107926, -0.1479497 ,  0.25565343,  0.02925281,  0.06089056,\n",
       "       -0.0282654 ,  0.07261461,  0.0516623 ,  0.17624514])"
      ]
     },
     "execution_count": 244,
     "metadata": {},
     "output_type": "execute_result"
    }
   ],
   "source": [
    "data1.groupBy('VIC_AGE_GROUP_indexed_encoded').count().show(truncate=False)\n",
    "data1.groupBy('VIC_AGE_GROUP').count().show(truncate=False)\n",
    "\n",
    "pipe2_model.stages[0].coefficients[18:]"
   ]
  },
  {
   "cell_type": "code",
   "execution_count": 245,
   "id": "variable-confidentiality",
   "metadata": {
    "scrolled": true
   },
   "outputs": [
    {
     "name": "stdout",
     "output_type": "stream",
     "text": [
      "+------------------------+------+\n",
      "|VIC_RACE_indexed_encoded|count |\n",
      "+------------------------+------+\n",
      "|(7,[6],[1.0])           |12    |\n",
      "|(7,[1],[1.0])           |530188|\n",
      "|(7,[4],[1.0])           |112129|\n",
      "|(7,[2],[1.0])           |404891|\n",
      "|(7,[5],[1.0])           |12761 |\n",
      "|(7,[0],[1.0])           |819423|\n",
      "|(7,[3],[1.0])           |150726|\n",
      "+------------------------+------+\n",
      "\n",
      "+------------------------------+------+\n",
      "|VIC_RACE                      |count |\n",
      "+------------------------------+------+\n",
      "|WHITE                         |404891|\n",
      "|BLACK                         |819423|\n",
      "|AMERICAN INDIAN/ALASKAN NATIVE|12761 |\n",
      "|BLACK HISPANIC                |112129|\n",
      "|WHITE HISPANIC                |530188|\n",
      "|OTHER                         |12    |\n",
      "|ASIAN / PACIFIC ISLANDER      |150726|\n",
      "+------------------------------+------+\n",
      "\n"
     ]
    },
    {
     "data": {
      "text/plain": [
       "array([-0.2523329 ,  0.08595802,  0.23941156,  0.44550216, -0.00513166,\n",
       "        0.05640524,  0.87967033, -0.16281022,  0.267501  ,  0.9524452 ,\n",
       "        1.87107926, -0.1479497 ,  0.25565343,  0.02925281,  0.06089056,\n",
       "       -0.0282654 ,  0.07261461,  0.0516623 ,  0.17624514])"
      ]
     },
     "execution_count": 245,
     "metadata": {},
     "output_type": "execute_result"
    }
   ],
   "source": [
    "data1.groupBy('VIC_RACE_indexed_encoded').count().show(truncate=False)\n",
    "data1.groupBy('VIC_RACE').count().show(truncate=False)\n",
    "\n",
    "pipe2_model.stages[0].coefficients[23:]"
   ]
  },
  {
   "cell_type": "code",
   "execution_count": 246,
   "id": "judicial-snapshot",
   "metadata": {},
   "outputs": [
    {
     "name": "stdout",
     "output_type": "stream",
     "text": [
      "+-----------------------+-------+\n",
      "|VIC_SEX_indexed_encoded|count  |\n",
      "+-----------------------+-------+\n",
      "|(4,[2],[1.0])          |145    |\n",
      "|(4,[0],[1.0])          |1257200|\n",
      "|(4,[3],[1.0])          |34     |\n",
      "|(4,[1],[1.0])          |772751 |\n",
      "+-----------------------+-------+\n",
      "\n",
      "+-------+-------+\n",
      "|VIC_SEX|count  |\n",
      "+-------+-------+\n",
      "|F      |1257200|\n",
      "|E      |34     |\n",
      "|M      |772751 |\n",
      "|D      |145    |\n",
      "+-------+-------+\n",
      "\n"
     ]
    },
    {
     "data": {
      "text/plain": [
       "array([-0.16281022,  0.267501  ,  0.9524452 ,  1.87107926, -0.1479497 ,\n",
       "        0.25565343,  0.02925281,  0.06089056, -0.0282654 ,  0.07261461,\n",
       "        0.0516623 ,  0.17624514])"
      ]
     },
     "execution_count": 246,
     "metadata": {},
     "output_type": "execute_result"
    }
   ],
   "source": [
    "data1.groupBy('VIC_SEX_indexed_encoded').count().show(truncate=False)\n",
    "data1.groupBy('VIC_SEX').count().show(truncate=False)\n",
    "\n",
    "pipe2_model.stages[0].coefficients[30:]"
   ]
  },
  {
   "cell_type": "code",
   "execution_count": 247,
   "id": "quarterly-college",
   "metadata": {},
   "outputs": [
    {
     "name": "stdout",
     "output_type": "stream",
     "text": [
      "+--------------------+-------+\n",
      "|Time_indexed_encoded|count  |\n",
      "+--------------------+-------+\n",
      "|(2,[0],[1.0])       |1301785|\n",
      "|(2,[1],[1.0])       |728345 |\n",
      "+--------------------+-------+\n",
      "\n",
      "+-----+-------+\n",
      "|Time |count  |\n",
      "+-----+-------+\n",
      "|Night|728345 |\n",
      "|Day  |1301785|\n",
      "+-----+-------+\n",
      "\n"
     ]
    },
    {
     "data": {
      "text/plain": [
       "array([-0.1479497 ,  0.25565343,  0.02925281,  0.06089056, -0.0282654 ,\n",
       "        0.07261461,  0.0516623 ,  0.17624514])"
      ]
     },
     "execution_count": 247,
     "metadata": {},
     "output_type": "execute_result"
    }
   ],
   "source": [
    "data1.groupBy('Time_indexed_encoded').count().show(truncate=False)\n",
    "data1.groupBy('Time').count().show(truncate=False)\n",
    "\n",
    "pipe2_model.stages[0].coefficients[34:]"
   ]
  },
  {
   "cell_type": "code",
   "execution_count": 248,
   "id": "electric-storage",
   "metadata": {},
   "outputs": [
    {
     "name": "stdout",
     "output_type": "stream",
     "text": [
      "+----------------------+------+\n",
      "|Season_indexed_encoded|count |\n",
      "+----------------------+------+\n",
      "|(4,[2],[1.0])         |503746|\n",
      "|(4,[0],[1.0])         |550342|\n",
      "|(4,[3],[1.0])         |458681|\n",
      "|(4,[1],[1.0])         |517361|\n",
      "+----------------------+------+\n",
      "\n",
      "+------+------+\n",
      "|Season|count |\n",
      "+------+------+\n",
      "|Spring|503746|\n",
      "|Summer|550342|\n",
      "|Autumn|517361|\n",
      "|Winter|458681|\n",
      "+------+------+\n",
      "\n"
     ]
    },
    {
     "data": {
      "text/plain": [
       "array([ 0.02925281,  0.06089056, -0.0282654 ,  0.07261461,  0.0516623 ,\n",
       "        0.17624514])"
      ]
     },
     "execution_count": 248,
     "metadata": {},
     "output_type": "execute_result"
    }
   ],
   "source": [
    "data1.groupBy('Season_indexed_encoded').count().show(truncate=False)\n",
    "data1.groupBy('Season').count().show(truncate=False)\n",
    "\n",
    "pipe2_model.stages[0].coefficients[36:]"
   ]
  },
  {
   "cell_type": "code",
   "execution_count": 249,
   "id": "western-raise",
   "metadata": {},
   "outputs": [
    {
     "name": "stdout",
     "output_type": "stream",
     "text": [
      "+----------------------------+-------+\n",
      "|JURISDICTION_indexed_encoded|count  |\n",
      "+----------------------------+-------+\n",
      "|(2,[0],[1.0])               |1778511|\n",
      "|(2,[1],[1.0])               |251619 |\n",
      "+----------------------------+-------+\n",
      "\n",
      "+------------+-------+\n",
      "|JURISDICTION|count  |\n",
      "+------------+-------+\n",
      "|Other       |251619 |\n",
      "|Police      |1778511|\n",
      "+------------+-------+\n",
      "\n"
     ]
    },
    {
     "data": {
      "text/plain": [
       "array([0.0516623 , 0.17624514])"
      ]
     },
     "execution_count": 249,
     "metadata": {},
     "output_type": "execute_result"
    }
   ],
   "source": [
    "data1.groupBy('JURISDICTION_indexed_encoded').count().show(truncate=False)\n",
    "data1.groupBy('JURISDICTION').count().show(truncate=False)\n",
    "\n",
    "pipe2_model.stages[0].coefficients[40:]"
   ]
  },
  {
   "cell_type": "code",
   "execution_count": 250,
   "id": "hindu-hughes",
   "metadata": {},
   "outputs": [
    {
     "data": {
      "text/plain": [
       "-1.0900373470589302"
      ]
     },
     "execution_count": 250,
     "metadata": {},
     "output_type": "execute_result"
    }
   ],
   "source": [
    "pipe2_model.stages[0].intercept"
   ]
  },
  {
   "cell_type": "code",
   "execution_count": null,
   "id": "antique-grounds",
   "metadata": {},
   "outputs": [],
   "source": []
  }
 ],
 "metadata": {
  "kernelspec": {
   "display_name": "Python 3",
   "language": "python",
   "name": "python3"
  },
  "language_info": {
   "codemirror_mode": {
    "name": "ipython",
    "version": 3
   },
   "file_extension": ".py",
   "mimetype": "text/x-python",
   "name": "python",
   "nbconvert_exporter": "python",
   "pygments_lexer": "ipython3",
   "version": "3.8.6"
  }
 },
 "nbformat": 4,
 "nbformat_minor": 5
}
